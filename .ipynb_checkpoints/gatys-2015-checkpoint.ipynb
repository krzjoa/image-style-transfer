{
 "cells": [
  {
   "cell_type": "markdown",
   "id": "dd90f2c0",
   "metadata": {},
   "source": [
    "# A Neural Algorithm of Artistic Style\n",
    "*Gatys L. et al., 2015*"
   ]
  },
  {
   "cell_type": "markdown",
   "id": "4823bfc0",
   "metadata": {},
   "source": [
    "This code is a simple passing through the PyTorch neural image style transfer tutorial. See: [Neural Transfer Using PyTorch](https://pytorch.org/tutorials/advanced/neural_style_tutorial.html)"
   ]
  },
  {
   "cell_type": "markdown",
   "id": "c808170a",
   "metadata": {},
   "source": [
    "## Importing needed libraries"
   ]
  },
  {
   "cell_type": "code",
   "execution_count": 5,
   "id": "52c3a050",
   "metadata": {},
   "outputs": [],
   "source": [
    "import torch\n",
    "import torch.nn as nn\n",
    "import torch.nn.functional as F\n",
    "import torch.optim as optim\n",
    "\n",
    "from PIL import Image\n",
    "import matplotlib.pyplot as plt\n",
    "\n",
    "import torchvision.transforms as transforms\n",
    "import torchvision.models as models\n",
    "\n",
    "import copy"
   ]
  },
  {
   "cell_type": "code",
   "execution_count": 8,
   "id": "b3513e83",
   "metadata": {},
   "outputs": [],
   "source": [
    "# I know that CUDA is available in my PC\n",
    "device = 'cuda'\n",
    "imsize = 512"
   ]
  },
  {
   "cell_type": "code",
   "execution_count": 9,
   "id": "70ec6bbf",
   "metadata": {},
   "outputs": [],
   "source": [
    "loader = transforms.Compose([\n",
    "    transforms.Resize(imsize),\n",
    "    transforms.ToTensor()\n",
    "])"
   ]
  },
  {
   "cell_type": "code",
   "execution_count": 11,
   "id": "fedcf7a6",
   "metadata": {},
   "outputs": [],
   "source": [
    "def load_image(image_path):\n",
    "    image = Image.open(image_path)\n",
    "    image = loader(image).unsqueeze(0) # batch dimensions\n",
    "    return image.to(device, torch.float)"
   ]
  },
  {
   "cell_type": "code",
   "execution_count": 12,
   "id": "5d557821",
   "metadata": {},
   "outputs": [
    {
     "ename": "FileNotFoundError",
     "evalue": "[Errno 2] No such file or directory: 'data/vg.jpg'",
     "output_type": "error",
     "traceback": [
      "Traceback \u001b[0;36m(most recent call last)\u001b[0m:\n",
      "  File \u001b[1;32m\"/tmp/ipykernel_6674/2258027668.py\"\u001b[0m, line \u001b[1;32m1\u001b[0m, in \u001b[1;35m<module>\u001b[0m\n    style_img = load_image(\"data/vg.jpg\")\n",
      "  File \u001b[1;32m\"/tmp/ipykernel_6674/2983367922.py\"\u001b[0m, line \u001b[1;32m2\u001b[0m, in \u001b[1;35mload_image\u001b[0m\n    image = Image.open(image_path)\n",
      "\u001b[0;36m  File \u001b[0;32m\"/usr/lib/python3/dist-packages/PIL/Image.py\"\u001b[0;36m, line \u001b[0;32m2809\u001b[0;36m, in \u001b[0;35mopen\u001b[0;36m\u001b[0m\n\u001b[0;31m    fp = builtins.open(filename, \"rb\")\u001b[0m\n",
      "\u001b[0;31mFileNotFoundError\u001b[0m\u001b[0;31m:\u001b[0m [Errno 2] No such file or directory: 'data/vg.jpg'\n"
     ]
    }
   ],
   "source": [
    "style_img = load_image(\"data/vg.jpg\")\n",
    "content_img = load_image(\"data/tue.jpg\")"
   ]
  },
  {
   "cell_type": "code",
   "execution_count": null,
   "id": "ff37f657",
   "metadata": {},
   "outputs": [],
   "source": []
  }
 ],
 "metadata": {
  "kernelspec": {
   "display_name": "Python 3 (Spyder)",
   "language": "python3",
   "name": "python3"
  },
  "language_info": {
   "codemirror_mode": {
    "name": "ipython",
    "version": 3
   },
   "file_extension": ".py",
   "mimetype": "text/x-python",
   "name": "python",
   "nbconvert_exporter": "python",
   "pygments_lexer": "ipython3",
   "version": "3.8.10"
  }
 },
 "nbformat": 4,
 "nbformat_minor": 5
}
